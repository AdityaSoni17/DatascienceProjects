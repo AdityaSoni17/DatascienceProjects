{
 "cells": [
  {
   "cell_type": "code",
   "execution_count": 58,
   "metadata": {},
   "outputs": [],
   "source": [
    "import numpy as np\n",
    "import pandas as pd\n",
    "import matplotlib.pyplot as plt\n"
   ]
  },
  {
   "cell_type": "code",
   "execution_count": 59,
   "metadata": {},
   "outputs": [],
   "source": [
    "data_csv = pd.read_csv('/home/sudeepgarg865660/iitr-deep-learning-spl-tf2/processing_sequences_using_rnn_cnns/BAJFINANCE.NS.csv')"
   ]
  },
  {
   "cell_type": "code",
   "execution_count": 60,
   "metadata": {},
   "outputs": [
    {
     "data": {
      "text/html": [
       "<div>\n",
       "<style scoped>\n",
       "    .dataframe tbody tr th:only-of-type {\n",
       "        vertical-align: middle;\n",
       "    }\n",
       "\n",
       "    .dataframe tbody tr th {\n",
       "        vertical-align: top;\n",
       "    }\n",
       "\n",
       "    .dataframe thead th {\n",
       "        text-align: right;\n",
       "    }\n",
       "</style>\n",
       "<table border=\"1\" class=\"dataframe\">\n",
       "  <thead>\n",
       "    <tr style=\"text-align: right;\">\n",
       "      <th></th>\n",
       "      <th>Date</th>\n",
       "      <th>Open</th>\n",
       "      <th>High</th>\n",
       "      <th>Low</th>\n",
       "      <th>Close</th>\n",
       "      <th>Adj Close</th>\n",
       "      <th>Volume</th>\n",
       "    </tr>\n",
       "  </thead>\n",
       "  <tbody>\n",
       "    <tr>\n",
       "      <th>0</th>\n",
       "      <td>2002-07-01</td>\n",
       "      <td>5.239737</td>\n",
       "      <td>5.540927</td>\n",
       "      <td>5.239737</td>\n",
       "      <td>5.412679</td>\n",
       "      <td>4.001257</td>\n",
       "      <td>21923.0</td>\n",
       "    </tr>\n",
       "    <tr>\n",
       "      <th>1</th>\n",
       "      <td>2002-07-02</td>\n",
       "      <td>5.523439</td>\n",
       "      <td>5.537041</td>\n",
       "      <td>5.421423</td>\n",
       "      <td>5.443769</td>\n",
       "      <td>4.024240</td>\n",
       "      <td>61044.0</td>\n",
       "    </tr>\n",
       "    <tr>\n",
       "      <th>2</th>\n",
       "      <td>2002-07-03</td>\n",
       "      <td>5.505950</td>\n",
       "      <td>5.545785</td>\n",
       "      <td>5.328151</td>\n",
       "      <td>5.466116</td>\n",
       "      <td>4.040760</td>\n",
       "      <td>34160.0</td>\n",
       "    </tr>\n",
       "    <tr>\n",
       "      <th>3</th>\n",
       "      <td>2002-07-04</td>\n",
       "      <td>5.501093</td>\n",
       "      <td>5.572018</td>\n",
       "      <td>5.417537</td>\n",
       "      <td>5.528297</td>\n",
       "      <td>4.086726</td>\n",
       "      <td>27892.0</td>\n",
       "    </tr>\n",
       "    <tr>\n",
       "      <th>4</th>\n",
       "      <td>2002-07-05</td>\n",
       "      <td>5.563274</td>\n",
       "      <td>5.656546</td>\n",
       "      <td>5.474860</td>\n",
       "      <td>5.590478</td>\n",
       "      <td>4.132692</td>\n",
       "      <td>58976.0</td>\n",
       "    </tr>\n",
       "  </tbody>\n",
       "</table>\n",
       "</div>"
      ],
      "text/plain": [
       "         Date      Open      High       Low     Close  Adj Close   Volume\n",
       "0  2002-07-01  5.239737  5.540927  5.239737  5.412679   4.001257  21923.0\n",
       "1  2002-07-02  5.523439  5.537041  5.421423  5.443769   4.024240  61044.0\n",
       "2  2002-07-03  5.505950  5.545785  5.328151  5.466116   4.040760  34160.0\n",
       "3  2002-07-04  5.501093  5.572018  5.417537  5.528297   4.086726  27892.0\n",
       "4  2002-07-05  5.563274  5.656546  5.474860  5.590478   4.132692  58976.0"
      ]
     },
     "execution_count": 60,
     "metadata": {},
     "output_type": "execute_result"
    }
   ],
   "source": [
    "data_csv.head()"
   ]
  },
  {
   "cell_type": "code",
   "execution_count": 61,
   "metadata": {},
   "outputs": [
    {
     "data": {
      "text/html": [
       "<div>\n",
       "<style scoped>\n",
       "    .dataframe tbody tr th:only-of-type {\n",
       "        vertical-align: middle;\n",
       "    }\n",
       "\n",
       "    .dataframe tbody tr th {\n",
       "        vertical-align: top;\n",
       "    }\n",
       "\n",
       "    .dataframe thead th {\n",
       "        text-align: right;\n",
       "    }\n",
       "</style>\n",
       "<table border=\"1\" class=\"dataframe\">\n",
       "  <thead>\n",
       "    <tr style=\"text-align: right;\">\n",
       "      <th></th>\n",
       "      <th>Open</th>\n",
       "      <th>High</th>\n",
       "      <th>Low</th>\n",
       "      <th>Close</th>\n",
       "      <th>Adj Close</th>\n",
       "      <th>Volume</th>\n",
       "    </tr>\n",
       "  </thead>\n",
       "  <tbody>\n",
       "    <tr>\n",
       "      <th>count</th>\n",
       "      <td>4783.000000</td>\n",
       "      <td>4783.000000</td>\n",
       "      <td>4783.000000</td>\n",
       "      <td>4783.000000</td>\n",
       "      <td>4783.000000</td>\n",
       "      <td>4.783000e+03</td>\n",
       "    </tr>\n",
       "    <tr>\n",
       "      <th>mean</th>\n",
       "      <td>881.251588</td>\n",
       "      <td>894.893722</td>\n",
       "      <td>866.828719</td>\n",
       "      <td>881.173791</td>\n",
       "      <td>875.709215</td>\n",
       "      <td>9.259254e+05</td>\n",
       "    </tr>\n",
       "    <tr>\n",
       "      <th>std</th>\n",
       "      <td>1529.944729</td>\n",
       "      <td>1552.382819</td>\n",
       "      <td>1507.610521</td>\n",
       "      <td>1530.507254</td>\n",
       "      <td>1527.947657</td>\n",
       "      <td>2.042785e+06</td>\n",
       "    </tr>\n",
       "    <tr>\n",
       "      <th>min</th>\n",
       "      <td>3.673548</td>\n",
       "      <td>4.081612</td>\n",
       "      <td>3.673548</td>\n",
       "      <td>4.064124</td>\n",
       "      <td>3.004354</td>\n",
       "      <td>0.000000e+00</td>\n",
       "    </tr>\n",
       "    <tr>\n",
       "      <th>25%</th>\n",
       "      <td>27.824630</td>\n",
       "      <td>28.569833</td>\n",
       "      <td>27.282487</td>\n",
       "      <td>27.908670</td>\n",
       "      <td>25.080693</td>\n",
       "      <td>7.395600e+04</td>\n",
       "    </tr>\n",
       "    <tr>\n",
       "      <th>50%</th>\n",
       "      <td>76.560600</td>\n",
       "      <td>77.969398</td>\n",
       "      <td>75.316978</td>\n",
       "      <td>76.405151</td>\n",
       "      <td>72.249939</td>\n",
       "      <td>2.433500e+05</td>\n",
       "    </tr>\n",
       "    <tr>\n",
       "      <th>75%</th>\n",
       "      <td>1047.750000</td>\n",
       "      <td>1065.525024</td>\n",
       "      <td>1025.000000</td>\n",
       "      <td>1047.719971</td>\n",
       "      <td>1037.340332</td>\n",
       "      <td>8.984685e+05</td>\n",
       "    </tr>\n",
       "    <tr>\n",
       "      <th>max</th>\n",
       "      <td>7949.850098</td>\n",
       "      <td>7999.000000</td>\n",
       "      <td>7804.649902</td>\n",
       "      <td>7899.049805</td>\n",
       "      <td>7899.049805</td>\n",
       "      <td>2.596005e+07</td>\n",
       "    </tr>\n",
       "  </tbody>\n",
       "</table>\n",
       "</div>"
      ],
      "text/plain": [
       "              Open         High          Low        Close    Adj Close  \\\n",
       "count  4783.000000  4783.000000  4783.000000  4783.000000  4783.000000   \n",
       "mean    881.251588   894.893722   866.828719   881.173791   875.709215   \n",
       "std    1529.944729  1552.382819  1507.610521  1530.507254  1527.947657   \n",
       "min       3.673548     4.081612     3.673548     4.064124     3.004354   \n",
       "25%      27.824630    28.569833    27.282487    27.908670    25.080693   \n",
       "50%      76.560600    77.969398    75.316978    76.405151    72.249939   \n",
       "75%    1047.750000  1065.525024  1025.000000  1047.719971  1037.340332   \n",
       "max    7949.850098  7999.000000  7804.649902  7899.049805  7899.049805   \n",
       "\n",
       "             Volume  \n",
       "count  4.783000e+03  \n",
       "mean   9.259254e+05  \n",
       "std    2.042785e+06  \n",
       "min    0.000000e+00  \n",
       "25%    7.395600e+04  \n",
       "50%    2.433500e+05  \n",
       "75%    8.984685e+05  \n",
       "max    2.596005e+07  "
      ]
     },
     "execution_count": 61,
     "metadata": {},
     "output_type": "execute_result"
    }
   ],
   "source": [
    "data_csv.describe()"
   ]
  },
  {
   "cell_type": "code",
   "execution_count": 62,
   "metadata": {},
   "outputs": [
    {
     "name": "stdout",
     "output_type": "stream",
     "text": [
      "<class 'pandas.core.frame.DataFrame'>\n",
      "RangeIndex: 4800 entries, 0 to 4799\n",
      "Data columns (total 7 columns):\n",
      " #   Column     Non-Null Count  Dtype  \n",
      "---  ------     --------------  -----  \n",
      " 0   Date       4800 non-null   object \n",
      " 1   Open       4783 non-null   float64\n",
      " 2   High       4783 non-null   float64\n",
      " 3   Low        4783 non-null   float64\n",
      " 4   Close      4783 non-null   float64\n",
      " 5   Adj Close  4783 non-null   float64\n",
      " 6   Volume     4783 non-null   float64\n",
      "dtypes: float64(6), object(1)\n",
      "memory usage: 262.6+ KB\n"
     ]
    }
   ],
   "source": [
    "data_csv.info()"
   ]
  },
  {
   "cell_type": "code",
   "execution_count": 63,
   "metadata": {},
   "outputs": [],
   "source": [
    "data_csv = data_csv.dropna()"
   ]
  },
  {
   "cell_type": "code",
   "execution_count": 65,
   "metadata": {},
   "outputs": [
    {
     "data": {
      "text/html": [
       "<div>\n",
       "<style scoped>\n",
       "    .dataframe tbody tr th:only-of-type {\n",
       "        vertical-align: middle;\n",
       "    }\n",
       "\n",
       "    .dataframe tbody tr th {\n",
       "        vertical-align: top;\n",
       "    }\n",
       "\n",
       "    .dataframe thead th {\n",
       "        text-align: right;\n",
       "    }\n",
       "</style>\n",
       "<table border=\"1\" class=\"dataframe\">\n",
       "  <thead>\n",
       "    <tr style=\"text-align: right;\">\n",
       "      <th></th>\n",
       "      <th>Open</th>\n",
       "      <th>High</th>\n",
       "      <th>Low</th>\n",
       "      <th>Close</th>\n",
       "      <th>Adj Close</th>\n",
       "      <th>Volume</th>\n",
       "    </tr>\n",
       "  </thead>\n",
       "  <tbody>\n",
       "    <tr>\n",
       "      <th>count</th>\n",
       "      <td>4783.000000</td>\n",
       "      <td>4783.000000</td>\n",
       "      <td>4783.000000</td>\n",
       "      <td>4783.000000</td>\n",
       "      <td>4783.000000</td>\n",
       "      <td>4.783000e+03</td>\n",
       "    </tr>\n",
       "    <tr>\n",
       "      <th>mean</th>\n",
       "      <td>881.251588</td>\n",
       "      <td>894.893722</td>\n",
       "      <td>866.828719</td>\n",
       "      <td>881.173791</td>\n",
       "      <td>875.709215</td>\n",
       "      <td>9.259254e+05</td>\n",
       "    </tr>\n",
       "    <tr>\n",
       "      <th>std</th>\n",
       "      <td>1529.944729</td>\n",
       "      <td>1552.382819</td>\n",
       "      <td>1507.610521</td>\n",
       "      <td>1530.507254</td>\n",
       "      <td>1527.947657</td>\n",
       "      <td>2.042785e+06</td>\n",
       "    </tr>\n",
       "    <tr>\n",
       "      <th>min</th>\n",
       "      <td>3.673548</td>\n",
       "      <td>4.081612</td>\n",
       "      <td>3.673548</td>\n",
       "      <td>4.064124</td>\n",
       "      <td>3.004354</td>\n",
       "      <td>0.000000e+00</td>\n",
       "    </tr>\n",
       "    <tr>\n",
       "      <th>25%</th>\n",
       "      <td>27.824630</td>\n",
       "      <td>28.569833</td>\n",
       "      <td>27.282487</td>\n",
       "      <td>27.908670</td>\n",
       "      <td>25.080693</td>\n",
       "      <td>7.395600e+04</td>\n",
       "    </tr>\n",
       "    <tr>\n",
       "      <th>50%</th>\n",
       "      <td>76.560600</td>\n",
       "      <td>77.969398</td>\n",
       "      <td>75.316978</td>\n",
       "      <td>76.405151</td>\n",
       "      <td>72.249939</td>\n",
       "      <td>2.433500e+05</td>\n",
       "    </tr>\n",
       "    <tr>\n",
       "      <th>75%</th>\n",
       "      <td>1047.750000</td>\n",
       "      <td>1065.525024</td>\n",
       "      <td>1025.000000</td>\n",
       "      <td>1047.719971</td>\n",
       "      <td>1037.340332</td>\n",
       "      <td>8.984685e+05</td>\n",
       "    </tr>\n",
       "    <tr>\n",
       "      <th>max</th>\n",
       "      <td>7949.850098</td>\n",
       "      <td>7999.000000</td>\n",
       "      <td>7804.649902</td>\n",
       "      <td>7899.049805</td>\n",
       "      <td>7899.049805</td>\n",
       "      <td>2.596005e+07</td>\n",
       "    </tr>\n",
       "  </tbody>\n",
       "</table>\n",
       "</div>"
      ],
      "text/plain": [
       "              Open         High          Low        Close    Adj Close  \\\n",
       "count  4783.000000  4783.000000  4783.000000  4783.000000  4783.000000   \n",
       "mean    881.251588   894.893722   866.828719   881.173791   875.709215   \n",
       "std    1529.944729  1552.382819  1507.610521  1530.507254  1527.947657   \n",
       "min       3.673548     4.081612     3.673548     4.064124     3.004354   \n",
       "25%      27.824630    28.569833    27.282487    27.908670    25.080693   \n",
       "50%      76.560600    77.969398    75.316978    76.405151    72.249939   \n",
       "75%    1047.750000  1065.525024  1025.000000  1047.719971  1037.340332   \n",
       "max    7949.850098  7999.000000  7804.649902  7899.049805  7899.049805   \n",
       "\n",
       "             Volume  \n",
       "count  4.783000e+03  \n",
       "mean   9.259254e+05  \n",
       "std    2.042785e+06  \n",
       "min    0.000000e+00  \n",
       "25%    7.395600e+04  \n",
       "50%    2.433500e+05  \n",
       "75%    8.984685e+05  \n",
       "max    2.596005e+07  "
      ]
     },
     "execution_count": 65,
     "metadata": {},
     "output_type": "execute_result"
    }
   ],
   "source": [
    "data_csv.describe()"
   ]
  },
  {
   "cell_type": "code",
   "execution_count": 66,
   "metadata": {},
   "outputs": [],
   "source": [
    "df1 = data_csv.reset_index()['Close']"
   ]
  },
  {
   "cell_type": "code",
   "execution_count": 67,
   "metadata": {},
   "outputs": [
    {
     "data": {
      "text/plain": [
       "(4783,)"
      ]
     },
     "execution_count": 67,
     "metadata": {},
     "output_type": "execute_result"
    }
   ],
   "source": [
    "df1.shape"
   ]
  },
  {
   "cell_type": "code",
   "execution_count": 68,
   "metadata": {},
   "outputs": [
    {
     "data": {
      "text/plain": [
       "[<matplotlib.lines.Line2D at 0x7f83dc4e5c18>]"
      ]
     },
     "execution_count": 68,
     "metadata": {},
     "output_type": "execute_result"
    },
    {
     "data": {
      "image/png": "[encoded data removed]",
      "text/plain": [
       "<Figure size 432x288 with 1 Axes>"
      ]
     },
     "metadata": {
      "needs_background": "light"
     },
     "output_type": "display_data"
    }
   ],
   "source": [
    "plt.plot(df1)"
   ]
  },
  {
   "cell_type": "code",
   "execution_count": null,
   "metadata": {},
   "outputs": [],
   "source": []
  },
  {
   "cell_type": "code",
   "execution_count": 69,
   "metadata": {},
   "outputs": [],
   "source": [
    "from sklearn.preprocessing import MinMaxScaler\n",
    "scaler = MinMaxScaler(feature_range=(0,1))\n",
    "df1 = scaler.fit_transform(np.array(df1).reshape(-1,1))"
   ]
  },
  {
   "cell_type": "code",
   "execution_count": 70,
   "metadata": {},
   "outputs": [
    {
     "name": "stdout",
     "output_type": "stream",
     "text": [
      "[[1.70811583e-04]\n",
      " [1.74749525e-04]\n",
      " [1.77580056e-04]\n",
      " ...\n",
      " [9.79240000e-01]\n",
      " [9.80854949e-01]\n",
      " [9.78866382e-01]]\n"
     ]
    }
   ],
   "source": [
    "print(df1)"
   ]
  },
  {
   "cell_type": "code",
   "execution_count": 71,
   "metadata": {},
   "outputs": [
    {
     "data": {
      "text/plain": [
       "(4783, 1)"
      ]
     },
     "execution_count": 71,
     "metadata": {},
     "output_type": "execute_result"
    }
   ],
   "source": [
    "df1.shape"
   ]
  },
  {
   "cell_type": "code",
   "execution_count": null,
   "metadata": {},
   "outputs": [],
   "source": []
  },
  {
   "cell_type": "code",
   "execution_count": 72,
   "metadata": {},
   "outputs": [
    {
     "name": "stdout",
     "output_type": "stream",
     "text": [
      "<class 'pandas.core.frame.DataFrame'>\n",
      "Int64Index: 4783 entries, 0 to 4799\n",
      "Data columns (total 7 columns):\n",
      " #   Column     Non-Null Count  Dtype  \n",
      "---  ------     --------------  -----  \n",
      " 0   Date       4783 non-null   object \n",
      " 1   Open       4783 non-null   float64\n",
      " 2   High       4783 non-null   float64\n",
      " 3   Low        4783 non-null   float64\n",
      " 4   Close      4783 non-null   float64\n",
      " 5   Adj Close  4783 non-null   float64\n",
      " 6   Volume     4783 non-null   float64\n",
      "dtypes: float64(6), object(1)\n",
      "memory usage: 298.9+ KB\n"
     ]
    }
   ],
   "source": [
    "data_csv.info()"
   ]
  },
  {
   "cell_type": "code",
   "execution_count": 73,
   "metadata": {},
   "outputs": [],
   "source": [
    "training_size = int(len(df1) * .7)\n",
    "test_size  = len(df1) - training_size\n",
    "train_data = df1[0:training_size,:]"
   ]
  },
  {
   "cell_type": "code",
   "execution_count": 74,
   "metadata": {},
   "outputs": [
    {
     "data": {
      "text/plain": [
       "(3348, 1)"
      ]
     },
     "execution_count": 74,
     "metadata": {},
     "output_type": "execute_result"
    }
   ],
   "source": [
    "train_data.shape"
   ]
  },
  {
   "cell_type": "code",
   "execution_count": 75,
   "metadata": {},
   "outputs": [
    {
     "data": {
      "text/plain": [
       "1435"
      ]
     },
     "execution_count": 75,
     "metadata": {},
     "output_type": "execute_result"
    }
   ],
   "source": [
    "test_size"
   ]
  },
  {
   "cell_type": "code",
   "execution_count": 76,
   "metadata": {},
   "outputs": [
    {
     "data": {
      "text/plain": [
       "(1435, 1)"
      ]
     },
     "execution_count": 76,
     "metadata": {},
     "output_type": "execute_result"
    }
   ],
   "source": [
    "test_data = df1[training_size:len(df1),:]\n",
    "test_data.shape"
   ]
  },
  {
   "cell_type": "code",
   "execution_count": 77,
   "metadata": {},
   "outputs": [
    {
     "data": {
      "text/plain": [
       "(3348, 1435)"
      ]
     },
     "execution_count": 77,
     "metadata": {},
     "output_type": "execute_result"
    }
   ],
   "source": [
    "training_size,test_size"
   ]
  },
  {
   "cell_type": "code",
   "execution_count": 78,
   "metadata": {},
   "outputs": [
    {
     "data": {
      "text/plain": [
       "array([[0.00017081],\n",
       "       [0.00017475],\n",
       "       [0.00017758],\n",
       "       ...,\n",
       "       [0.06962785],\n",
       "       [0.06946129],\n",
       "       [0.06836375]])"
      ]
     },
     "execution_count": 78,
     "metadata": {},
     "output_type": "execute_result"
    }
   ],
   "source": [
    "train_data"
   ]
  },
  {
   "cell_type": "code",
   "execution_count": 79,
   "metadata": {},
   "outputs": [],
   "source": [
    "import numpy\n",
    "# convert an array of values into a dataset matrix\n",
    "def create_dataset(dataset, time_step=1):\n",
    "\tdataX, dataY = [], []\n",
    "\tfor i in range(len(dataset)-time_step-1):\n",
    "\t\ta = dataset[i:(i+time_step), 0]   ###i=0, 0,1,2,3-----99   100 \n",
    "\t\tdataX.append(a)\n",
    "\t\tdataY.append(dataset[i + time_step, 0])\n",
    "\treturn numpy.array(dataX), numpy.array(dataY)"
   ]
  },
  {
   "cell_type": "code",
   "execution_count": 81,
   "metadata": {},
   "outputs": [],
   "source": [
    "time_step=50\n",
    "X_train,y_train = create_dataset(train_data,time_step)\n",
    "X_test,y_test = create_dataset(test_data,time_step)"
   ]
  },
  {
   "cell_type": "code",
   "execution_count": 82,
   "metadata": {},
   "outputs": [
    {
     "name": "stdout",
     "output_type": "stream",
     "text": [
      "(3297, 50)\n"
     ]
    }
   ],
   "source": [
    "print(X_train.shape)"
   ]
  },
  {
   "cell_type": "code",
   "execution_count": 83,
   "metadata": {},
   "outputs": [
    {
     "name": "stdout",
     "output_type": "stream",
     "text": [
      "(3297,)\n"
     ]
    }
   ],
   "source": [
    "print(y_train.shape)"
   ]
  },
  {
   "cell_type": "code",
   "execution_count": 84,
   "metadata": {},
   "outputs": [
    {
     "name": "stdout",
     "output_type": "stream",
     "text": [
      "(1384, 50)\n",
      "(1384,)\n"
     ]
    },
    {
     "data": {
      "text/plain": [
       "(None, None)"
      ]
     },
     "execution_count": 84,
     "metadata": {},
     "output_type": "execute_result"
    }
   ],
   "source": [
    "print(X_test.shape), print(y_test.shape)"
   ]
  },
  {
   "cell_type": "code",
   "execution_count": 85,
   "metadata": {},
   "outputs": [],
   "source": [
    "X_train =X_train.reshape(X_train.shape[0],X_train.shape[1] , 1)\n",
    "X_test = X_test.reshape(X_test.shape[0],X_test.shape[1] , 1)"
   ]
  },
  {
   "cell_type": "code",
   "execution_count": 86,
   "metadata": {},
   "outputs": [
    {
     "data": {
      "text/plain": [
       "(3297, 50, 1)"
      ]
     },
     "execution_count": 86,
     "metadata": {},
     "output_type": "execute_result"
    }
   ],
   "source": [
    "X_train.shape"
   ]
  },
  {
   "cell_type": "code",
   "execution_count": 87,
   "metadata": {},
   "outputs": [
    {
     "data": {
      "text/plain": [
       "(1384, 50, 1)"
      ]
     },
     "execution_count": 87,
     "metadata": {},
     "output_type": "execute_result"
    }
   ],
   "source": [
    "X_test.shape"
   ]
  },
  {
   "cell_type": "code",
   "execution_count": 88,
   "metadata": {},
   "outputs": [],
   "source": [
    "from tensorflow.keras.models import Sequential\n",
    "from tensorflow.keras.layers import Dense\n",
    "from tensorflow.keras.layers import LSTM"
   ]
  },
  {
   "cell_type": "code",
   "execution_count": 28,
   "metadata": {},
   "outputs": [],
   "source": [
    "##from tensorflow import keras\n",
    "##model=Sequential()\n",
    "##model.add(LSTM(50,return_sequences=True,input_shape=[None, 1]))\n",
    "##model.add(LSTM(50,return_sequences=True))\n",
    "#model.add(LSTM(50))\n",
    "##keras.layers.TimeDistributed(keras.layers.Dense(10))\n",
    "##model.compile(loss='mean_squared_error',optimizer='adam')"
   ]
  },
  {
   "cell_type": "code",
   "execution_count": 89,
   "metadata": {},
   "outputs": [],
   "source": [
    "from tensorflow import keras\n",
    "model = keras.models.Sequential([\n",
    "    keras.layers.LSTM(50, return_sequences=True, input_shape=[None, 1]),\n",
    "    keras.layers.LSTM(50, return_sequences=True),\n",
    "    keras.layers.LSTM(50),\n",
    "    keras.layers.Dense(1)])\n",
    "model.compile(loss='mean_squared_error',optimizer='adam')\n",
    "\n"
   ]
  },
  {
   "cell_type": "code",
   "execution_count": 31,
   "metadata": {},
   "outputs": [
    {
     "ename": "NameError",
     "evalue": "name 'model2' is not defined",
     "output_type": "error",
     "traceback": [
      "\u001b[0;31m---------------------------------------------------------------------------\u001b[0m",
      "\u001b[0;31mNameError\u001b[0m                                 Traceback (most recent call last)",
      "\u001b[0;32m<ipython-input-31-378732ef5219>\u001b[0m in \u001b[0;36m<module>\u001b[0;34m\u001b[0m\n\u001b[0;32m----> 1\u001b[0;31m \u001b[0mmodel2\u001b[0m\u001b[0;34m.\u001b[0m\u001b[0msummary\u001b[0m\u001b[0;34m(\u001b[0m\u001b[0;34m)\u001b[0m\u001b[0;34m\u001b[0m\u001b[0;34m\u001b[0m\u001b[0m\n\u001b[0m",
      "\u001b[0;31mNameError\u001b[0m: name 'model2' is not defined"
     ]
    }
   ],
   "source": []
  },
  {
   "cell_type": "code",
   "execution_count": 49,
   "metadata": {},
   "outputs": [],
   "source": [
    "model.compile(loss='mean_squared_error',optimizer='adam')"
   ]
  },
  {
   "cell_type": "code",
   "execution_count": 90,
   "metadata": {},
   "outputs": [
    {
     "name": "stdout",
     "output_type": "stream",
     "text": [
      "Model: \"sequential_3\"\n",
      "_________________________________________________________________\n",
      "Layer (type)                 Output Shape              Param #   \n",
      "=================================================================\n",
      "lstm_16 (LSTM)               (None, None, 50)          10400     \n",
      "_________________________________________________________________\n",
      "lstm_17 (LSTM)               (None, None, 50)          20200     \n",
      "_________________________________________________________________\n",
      "lstm_18 (LSTM)               (None, 50)                20200     \n",
      "_________________________________________________________________\n",
      "dense_3 (Dense)              (None, 1)                 51        \n",
      "=================================================================\n",
      "Total params: 50,851\n",
      "Trainable params: 50,851\n",
      "Non-trainable params: 0\n",
      "_________________________________________________________________\n"
     ]
    }
   ],
   "source": [
    "model.summary()"
   ]
  },
  {
   "cell_type": "code",
   "execution_count": 51,
   "metadata": {},
   "outputs": [
    {
     "name": "stdout",
     "output_type": "stream",
     "text": [
      "Model: \"sequential_1\"\n",
      "_________________________________________________________________\n",
      "Layer (type)                 Output Shape              Param #   \n",
      "=================================================================\n",
      "lstm_10 (LSTM)               (None, None, 50)          10400     \n",
      "_________________________________________________________________\n",
      "lstm_11 (LSTM)               (None, None, 50)          20200     \n",
      "_________________________________________________________________\n",
      "lstm_12 (LSTM)               (None, 50)                20200     \n",
      "_________________________________________________________________\n",
      "dense_1 (Dense)              (None, 1)                 51        \n",
      "=================================================================\n",
      "Total params: 50,851\n",
      "Trainable params: 50,851\n",
      "Non-trainable params: 0\n",
      "_________________________________________________________________\n"
     ]
    }
   ],
   "source": [
    "model.summary()"
   ]
  },
  {
   "cell_type": "code",
   "execution_count": 91,
   "metadata": {},
   "outputs": [
    {
     "name": "stdout",
     "output_type": "stream",
     "text": [
      "(3297, 50, 1)\n",
      "\n"
     ]
    }
   ],
   "source": [
    "print(X_train.shape)\n",
    "print()"
   ]
  },
  {
   "cell_type": "code",
   "execution_count": 92,
   "metadata": {},
   "outputs": [
    {
     "name": "stdout",
     "output_type": "stream",
     "text": [
      "Epoch 1/100\n",
      "52/52 [==============================] - 13s 155ms/step - loss: 4.0800e-05 - val_loss: 0.0048\n",
      "Epoch 2/100\n",
      "52/52 [==============================] - 7s 134ms/step - loss: 1.8105e-06 - val_loss: 0.0056\n",
      "Epoch 3/100\n",
      "52/52 [==============================] - 7s 143ms/step - loss: 1.7643e-06 - val_loss: 0.0056\n",
      "Epoch 4/100\n",
      "52/52 [==============================] - 7s 134ms/step - loss: 1.8649e-06 - val_loss: 0.0052\n",
      "Epoch 5/100\n",
      "52/52 [==============================] - 7s 136ms/step - loss: 1.9104e-06 - val_loss: 0.0050\n",
      "Epoch 6/100\n",
      "52/52 [==============================] - 7s 132ms/step - loss: 1.8516e-06 - val_loss: 0.0037\n",
      "Epoch 7/100\n",
      "52/52 [==============================] - 7s 135ms/step - loss: 2.1845e-06 - val_loss: 0.0050\n",
      "Epoch 8/100\n",
      "52/52 [==============================] - 9s 165ms/step - loss: 1.9499e-06 - val_loss: 0.0056\n",
      "Epoch 9/100\n",
      "52/52 [==============================] - 7s 135ms/step - loss: 1.9929e-06 - val_loss: 0.0050\n",
      "Epoch 10/100\n",
      "52/52 [==============================] - 7s 130ms/step - loss: 1.9562e-06 - val_loss: 0.0041\n",
      "Epoch 11/100\n",
      "52/52 [==============================] - 7s 138ms/step - loss: 1.8151e-06 - val_loss: 0.0056\n",
      "Epoch 12/100\n",
      "52/52 [==============================] - 8s 154ms/step - loss: 1.9832e-06 - val_loss: 0.0051\n",
      "Epoch 13/100\n",
      "52/52 [==============================] - 7s 132ms/step - loss: 1.6628e-06 - val_loss: 0.0052\n",
      "Epoch 14/100\n",
      "52/52 [==============================] - 7s 135ms/step - loss: 1.8014e-06 - val_loss: 0.0050\n",
      "Epoch 15/100\n",
      "52/52 [==============================] - 7s 132ms/step - loss: 2.2154e-06 - val_loss: 0.0051\n",
      "Epoch 16/100\n",
      "52/52 [==============================] - 8s 149ms/step - loss: 1.8999e-06 - val_loss: 0.0048\n",
      "Epoch 17/100\n",
      "52/52 [==============================] - 7s 142ms/step - loss: 2.1656e-06 - val_loss: 0.0070\n",
      "Epoch 18/100\n",
      "52/52 [==============================] - 7s 143ms/step - loss: 1.8684e-06 - val_loss: 0.0053\n",
      "Epoch 19/100\n",
      "52/52 [==============================] - 7s 139ms/step - loss: 1.5809e-06 - val_loss: 0.0050\n",
      "Epoch 20/100\n",
      "52/52 [==============================] - 7s 141ms/step - loss: 1.8481e-06 - val_loss: 0.0061\n",
      "Epoch 21/100\n",
      "52/52 [==============================] - 7s 141ms/step - loss: 1.5995e-06 - val_loss: 0.0038\n",
      "Epoch 22/100\n",
      "52/52 [==============================] - 8s 145ms/step - loss: 1.6794e-06 - val_loss: 0.0060\n",
      "Epoch 23/100\n",
      "52/52 [==============================] - 7s 142ms/step - loss: 1.8942e-06 - val_loss: 0.0057\n",
      "Epoch 24/100\n",
      "52/52 [==============================] - 8s 149ms/step - loss: 1.5956e-06 - val_loss: 0.0047\n",
      "Epoch 25/100\n",
      "52/52 [==============================] - 7s 142ms/step - loss: 1.5560e-06 - val_loss: 0.0045\n",
      "Epoch 26/100\n",
      "52/52 [==============================] - 7s 141ms/step - loss: 1.5012e-06 - val_loss: 0.0050\n",
      "Epoch 27/100\n",
      "52/52 [==============================] - 7s 139ms/step - loss: 1.4390e-06 - val_loss: 0.0041\n",
      "Epoch 28/100\n",
      "52/52 [==============================] - 7s 141ms/step - loss: 1.4289e-06 - val_loss: 0.0043\n",
      "Epoch 29/100\n",
      "52/52 [==============================] - 7s 133ms/step - loss: 1.4271e-06 - val_loss: 0.0042\n",
      "Epoch 30/100\n",
      "52/52 [==============================] - 7s 135ms/step - loss: 1.9271e-06 - val_loss: 0.0023\n",
      "Epoch 31/100\n",
      "52/52 [==============================] - 7s 134ms/step - loss: 1.9453e-06 - val_loss: 0.0040\n",
      "Epoch 32/100\n",
      "52/52 [==============================] - 7s 133ms/step - loss: 2.0517e-06 - val_loss: 0.0045\n",
      "Epoch 33/100\n",
      "52/52 [==============================] - 8s 145ms/step - loss: 1.4220e-06 - val_loss: 0.0035\n",
      "Epoch 34/100\n",
      "52/52 [==============================] - 7s 134ms/step - loss: 1.5506e-06 - val_loss: 0.0043\n",
      "Epoch 35/100\n",
      "52/52 [==============================] - 7s 131ms/step - loss: 1.6746e-06 - val_loss: 0.0039\n",
      "Epoch 36/100\n",
      "52/52 [==============================] - 7s 132ms/step - loss: 1.6817e-06 - val_loss: 0.0037\n",
      "Epoch 37/100\n",
      "52/52 [==============================] - 7s 133ms/step - loss: 2.2426e-06 - val_loss: 0.0034\n",
      "Epoch 38/100\n",
      "52/52 [==============================] - 7s 132ms/step - loss: 1.6269e-06 - val_loss: 0.0041\n",
      "Epoch 39/100\n",
      "52/52 [==============================] - 7s 135ms/step - loss: 1.9296e-06 - val_loss: 0.0059\n",
      "Epoch 40/100\n",
      "52/52 [==============================] - 7s 133ms/step - loss: 1.3635e-06 - val_loss: 0.0032\n",
      "Epoch 41/100\n",
      "52/52 [==============================] - 8s 153ms/step - loss: 1.9279e-06 - val_loss: 0.0038\n",
      "Epoch 42/100\n",
      "52/52 [==============================] - 10s 201ms/step - loss: 1.2442e-06 - val_loss: 0.0041\n",
      "Epoch 43/100\n",
      "52/52 [==============================] - 8s 158ms/step - loss: 1.3877e-06 - val_loss: 0.0033\n",
      "Epoch 44/100\n",
      "52/52 [==============================] - 8s 150ms/step - loss: 1.2958e-06 - val_loss: 0.0057\n",
      "Epoch 45/100\n",
      "52/52 [==============================] - 7s 140ms/step - loss: 1.2500e-06 - val_loss: 0.0037\n",
      "Epoch 46/100\n",
      "52/52 [==============================] - 7s 138ms/step - loss: 1.3912e-06 - val_loss: 0.0045\n",
      "Epoch 47/100\n",
      "52/52 [==============================] - 7s 136ms/step - loss: 1.3788e-06 - val_loss: 0.0042\n",
      "Epoch 48/100\n",
      "52/52 [==============================] - 7s 139ms/step - loss: 1.3838e-06 - val_loss: 0.0039\n",
      "Epoch 49/100\n",
      "52/52 [==============================] - 8s 146ms/step - loss: 1.2773e-06 - val_loss: 0.0040\n",
      "Epoch 50/100\n",
      "52/52 [==============================] - 7s 141ms/step - loss: 1.5606e-06 - val_loss: 0.0046\n",
      "Epoch 51/100\n",
      "52/52 [==============================] - 7s 136ms/step - loss: 1.7349e-06 - val_loss: 0.0036\n",
      "Epoch 52/100\n",
      "52/52 [==============================] - 7s 136ms/step - loss: 1.7144e-06 - val_loss: 0.0038\n",
      "Epoch 53/100\n",
      "52/52 [==============================] - 7s 138ms/step - loss: 1.1318e-06 - val_loss: 0.0042\n",
      "Epoch 54/100\n",
      "52/52 [==============================] - 7s 136ms/step - loss: 1.2197e-06 - val_loss: 0.0040\n",
      "Epoch 55/100\n",
      "52/52 [==============================] - 7s 140ms/step - loss: 1.6598e-06 - val_loss: 0.0031\n",
      "Epoch 56/100\n",
      "52/52 [==============================] - 8s 145ms/step - loss: 1.7719e-06 - val_loss: 0.0049\n",
      "Epoch 57/100\n",
      "52/52 [==============================] - 8s 147ms/step - loss: 1.6601e-06 - val_loss: 0.0043\n",
      "Epoch 58/100\n",
      "52/52 [==============================] - 7s 141ms/step - loss: 1.6478e-06 - val_loss: 0.0045\n",
      "Epoch 59/100\n",
      "52/52 [==============================] - 7s 137ms/step - loss: 1.1826e-06 - val_loss: 0.0032\n",
      "Epoch 60/100\n",
      "52/52 [==============================] - 7s 138ms/step - loss: 1.2215e-06 - val_loss: 0.0039\n",
      "Epoch 61/100\n",
      "52/52 [==============================] - 7s 136ms/step - loss: 1.1168e-06 - val_loss: 0.0044\n",
      "Epoch 62/100\n",
      "52/52 [==============================] - 7s 137ms/step - loss: 1.2556e-06 - val_loss: 0.0043\n",
      "Epoch 63/100\n",
      "52/52 [==============================] - 7s 140ms/step - loss: 1.0596e-06 - val_loss: 0.0044\n",
      "Epoch 64/100\n",
      "52/52 [==============================] - 7s 141ms/step - loss: 1.2702e-06 - val_loss: 0.0037\n",
      "Epoch 65/100\n",
      "52/52 [==============================] - 7s 143ms/step - loss: 1.6000e-06 - val_loss: 0.0044\n",
      "Epoch 66/100\n",
      "52/52 [==============================] - 7s 144ms/step - loss: 1.2050e-06 - val_loss: 0.0044\n",
      "Epoch 67/100\n",
      "52/52 [==============================] - 7s 139ms/step - loss: 1.1883e-06 - val_loss: 0.0031\n",
      "Epoch 68/100\n",
      "52/52 [==============================] - 7s 137ms/step - loss: 1.2553e-06 - val_loss: 0.0042\n",
      "Epoch 69/100\n",
      "52/52 [==============================] - 7s 137ms/step - loss: 1.2446e-06 - val_loss: 0.0041\n",
      "Epoch 70/100\n",
      "52/52 [==============================] - 7s 137ms/step - loss: 1.1991e-06 - val_loss: 0.0033\n",
      "Epoch 71/100\n",
      "52/52 [==============================] - 7s 138ms/step - loss: 1.2711e-06 - val_loss: 0.0040\n",
      "Epoch 72/100\n",
      "52/52 [==============================] - 7s 137ms/step - loss: 1.0895e-06 - val_loss: 0.0041\n",
      "Epoch 73/100\n",
      "52/52 [==============================] - 7s 137ms/step - loss: 1.0983e-06 - val_loss: 0.0037\n",
      "Epoch 74/100\n",
      "52/52 [==============================] - 8s 146ms/step - loss: 1.0473e-06 - val_loss: 0.0034\n",
      "Epoch 75/100\n",
      "52/52 [==============================] - 8s 161ms/step - loss: 9.8937e-07 - val_loss: 0.0033\n",
      "Epoch 76/100\n",
      "52/52 [==============================] - 7s 137ms/step - loss: 1.1985e-06 - val_loss: 0.0029\n",
      "Epoch 77/100\n",
      "52/52 [==============================] - 7s 139ms/step - loss: 1.5179e-06 - val_loss: 0.0038\n",
      "Epoch 78/100\n",
      "52/52 [==============================] - 7s 137ms/step - loss: 1.1397e-06 - val_loss: 0.0039\n",
      "Epoch 79/100\n",
      "52/52 [==============================] - 7s 137ms/step - loss: 9.8324e-07 - val_loss: 0.0049\n",
      "Epoch 80/100\n",
      "52/52 [==============================] - 7s 138ms/step - loss: 1.3282e-06 - val_loss: 0.0032\n",
      "Epoch 81/100\n",
      "52/52 [==============================] - 7s 142ms/step - loss: 1.3334e-06 - val_loss: 0.0042\n",
      "Epoch 82/100\n",
      "52/52 [==============================] - 7s 142ms/step - loss: 9.4557e-07 - val_loss: 0.0047\n",
      "Epoch 83/100\n",
      "52/52 [==============================] - 7s 143ms/step - loss: 1.0377e-06 - val_loss: 0.0049\n",
      "Epoch 84/100\n",
      "52/52 [==============================] - 7s 140ms/step - loss: 1.1275e-06 - val_loss: 0.0046\n",
      "Epoch 85/100\n",
      "52/52 [==============================] - 8s 147ms/step - loss: 1.0249e-06 - val_loss: 0.0042\n",
      "Epoch 86/100\n",
      "52/52 [==============================] - 8s 149ms/step - loss: 1.2373e-06 - val_loss: 0.0037\n",
      "Epoch 87/100\n",
      "52/52 [==============================] - 7s 137ms/step - loss: 1.2531e-06 - val_loss: 0.0047\n",
      "Epoch 88/100\n",
      "52/52 [==============================] - 7s 138ms/step - loss: 1.0256e-06 - val_loss: 0.0035\n",
      "Epoch 89/100\n",
      "52/52 [==============================] - 7s 137ms/step - loss: 9.8447e-07 - val_loss: 0.0036\n",
      "Epoch 90/100\n",
      "52/52 [==============================] - 7s 142ms/step - loss: 1.0365e-06 - val_loss: 0.0041\n",
      "Epoch 91/100\n",
      "52/52 [==============================] - 8s 146ms/step - loss: 1.0316e-06 - val_loss: 0.0033\n",
      "Epoch 92/100\n",
      "52/52 [==============================] - 8s 147ms/step - loss: 9.3588e-07 - val_loss: 0.0030\n",
      "Epoch 93/100\n",
      "52/52 [==============================] - 7s 138ms/step - loss: 1.0482e-06 - val_loss: 0.0047\n",
      "Epoch 94/100\n",
      "52/52 [==============================] - 7s 137ms/step - loss: 1.1718e-06 - val_loss: 0.0037\n",
      "Epoch 95/100\n",
      "52/52 [==============================] - 7s 137ms/step - loss: 1.1820e-06 - val_loss: 0.0036\n",
      "Epoch 96/100\n",
      "52/52 [==============================] - 7s 140ms/step - loss: 1.3977e-06 - val_loss: 0.0038\n",
      "Epoch 97/100\n",
      "52/52 [==============================] - 7s 138ms/step - loss: 1.0349e-06 - val_loss: 0.0035\n",
      "Epoch 98/100\n",
      "52/52 [==============================] - 7s 143ms/step - loss: 9.8727e-07 - val_loss: 0.0036\n",
      "Epoch 99/100\n",
      "52/52 [==============================] - 8s 151ms/step - loss: 1.0445e-06 - val_loss: 0.0037\n",
      "Epoch 100/100\n",
      "52/52 [==============================] - 7s 141ms/step - loss: 9.5710e-07 - val_loss: 0.0034\n"
     ]
    }
   ],
   "source": [
    "history = model.fit(X_train,y_train,validation_data=(X_test,y_test),epochs=100,batch_size=64,verbose=1)"
   ]
  },
  {
   "cell_type": "code",
   "execution_count": 93,
   "metadata": {},
   "outputs": [],
   "source": [
    "model.save(\"models/sudeep_forecasting_several_steps_11oct_final_without_time_distribution_layer.h5\")"
   ]
  },
  {
   "cell_type": "code",
   "execution_count": 35,
   "metadata": {},
   "outputs": [],
   "source": [
    "#model = keras.models.load_model(\"models/sudeep_forecasting_several_steps_11oct_main.h5\")"
   ]
  },
  {
   "cell_type": "code",
   "execution_count": 94,
   "metadata": {},
   "outputs": [],
   "source": [
    "import tensorflow as tf"
   ]
  },
  {
   "cell_type": "code",
   "execution_count": 37,
   "metadata": {},
   "outputs": [
    {
     "data": {
      "text/plain": [
       "'2.6.0'"
      ]
     },
     "execution_count": 37,
     "metadata": {},
     "output_type": "execute_result"
    }
   ],
   "source": [
    "tf.__version__"
   ]
  },
  {
   "cell_type": "code",
   "execution_count": 95,
   "metadata": {},
   "outputs": [],
   "source": [
    "train_predict=model.predict(X_train)\n",
    "test_predict=model.predict(X_test)"
   ]
  },
  {
   "cell_type": "code",
   "execution_count": 96,
   "metadata": {},
   "outputs": [
    {
     "data": {
      "text/plain": [
       "(1384, 1)"
      ]
     },
     "execution_count": 96,
     "metadata": {},
     "output_type": "execute_result"
    }
   ],
   "source": [
    "test_predict.shape"
   ]
  },
  {
   "cell_type": "code",
   "execution_count": 97,
   "metadata": {},
   "outputs": [
    {
     "data": {
      "text/plain": [
       "(3297, 1)"
      ]
     },
     "execution_count": 97,
     "metadata": {},
     "output_type": "execute_result"
    }
   ],
   "source": [
    "train_predict.shape"
   ]
  },
  {
   "cell_type": "code",
   "execution_count": 98,
   "metadata": {},
   "outputs": [],
   "source": [
    "train_predict=scaler.inverse_transform(train_predict)\n",
    "test_predict=scaler.inverse_transform(test_predict)"
   ]
  },
  {
   "cell_type": "code",
   "execution_count": 99,
   "metadata": {},
   "outputs": [
    {
     "data": {
      "text/plain": [
       "153.2174412127819"
      ]
     },
     "execution_count": 99,
     "metadata": {},
     "output_type": "execute_result"
    }
   ],
   "source": [
    "import math\n",
    "from sklearn.metrics import mean_squared_error\n",
    "math.sqrt(mean_squared_error(y_train,train_predict))"
   ]
  },
  {
   "cell_type": "code",
   "execution_count": 100,
   "metadata": {},
   "outputs": [
    {
     "data": {
      "text/plain": [
       "2865.4964264268397"
      ]
     },
     "execution_count": 100,
     "metadata": {},
     "output_type": "execute_result"
    }
   ],
   "source": [
    "math.sqrt(mean_squared_error(y_test,test_predict))"
   ]
  },
  {
   "cell_type": "code",
   "execution_count": 102,
   "metadata": {},
   "outputs": [
    {
     "data": {
      "image/png": "[encoded data removed]",
      "text/plain": [
       "<Figure size 432x288 with 1 Axes>"
      ]
     },
     "metadata": {
      "needs_background": "light"
     },
     "output_type": "display_data"
    }
   ],
   "source": [
    "### Plotting \n",
    "# shift train predictions for plotting\n",
    "look_back=50\n",
    "trainPredictPlot = numpy.empty_like(df1)\n",
    "trainPredictPlot[:, :] = np.nan\n",
    "trainPredictPlot[look_back:len(train_predict)+look_back, :] = train_predict\n",
    "# shift test predictions for plotting\n",
    "testPredictPlot = numpy.empty_like(df1)\n",
    "testPredictPlot[:, :] = numpy.nan\n",
    "testPredictPlot[len(train_predict)+(look_back*2)+1:len(df1)-1, :] = test_predict\n",
    "# plot baseline and predictions\n",
    "plt.plot(scaler.inverse_transform(df1))\n",
    "plt.plot(trainPredictPlot)\n",
    "plt.plot(testPredictPlot)\n",
    "plt.show()"
   ]
  },
  {
   "cell_type": "code",
   "execution_count": 103,
   "metadata": {},
   "outputs": [
    {
     "data": {
      "text/plain": [
       "1435"
      ]
     },
     "execution_count": 103,
     "metadata": {},
     "output_type": "execute_result"
    }
   ],
   "source": [
    "len(test_data)"
   ]
  },
  {
   "cell_type": "code",
   "execution_count": 104,
   "metadata": {},
   "outputs": [
    {
     "data": {
      "text/plain": [
       "(1, 50)"
      ]
     },
     "execution_count": 104,
     "metadata": {},
     "output_type": "execute_result"
    }
   ],
   "source": [
    "x_input=test_data[1385:].reshape(1,-1)\n",
    "x_input.shape"
   ]
  },
  {
   "cell_type": "code",
   "execution_count": 105,
   "metadata": {},
   "outputs": [],
   "source": [
    "temp_input=list(x_input)\n",
    "temp_input=temp_input[0].tolist()"
   ]
  },
  {
   "cell_type": "code",
   "execution_count": 106,
   "metadata": {},
   "outputs": [
    {
     "data": {
      "text/plain": [
       "[0.810139021454167,\n",
       " 0.7883530414727298,\n",
       " 0.784857139248813,\n",
       " 0.8015006022402944,\n",
       " 0.8049521601152605,\n",
       " 0.7909052819471479,\n",
       " 0.7878716861981856,\n",
       " 0.7839261561796873,\n",
       " 0.7810066063627102,\n",
       " 0.7807152450996321,\n",
       " 0.7847304765745022,\n",
       " 0.7792902900136369,\n",
       " 0.8072320882528528,\n",
       " 0.8114056481972739,\n",
       " 0.8283784465549053,\n",
       " 0.8431979794492551,\n",
       " 0.8547369613652377,\n",
       " 0.8836033725543627,\n",
       " 0.8791511918386216,\n",
       " 0.8775045770725828,\n",
       " 0.8818934264511685,\n",
       " 0.9070866199586209,\n",
       " 0.9525585200361557,\n",
       " 0.9519378853449756,\n",
       " 0.949258982069584,\n",
       " 0.9524191786814719,\n",
       " 0.9502596049103591,\n",
       " 0.9440467636232563,\n",
       " 0.9447941228001325,\n",
       " 0.9406712156391561,\n",
       " 0.9425584772001059,\n",
       " 0.9390119223194068,\n",
       " 0.9385812815130298,\n",
       " 0.9382456378390487,\n",
       " 0.9404368774054019,\n",
       " 0.9421658723081858,\n",
       " 0.9892083772608937,\n",
       " 0.9866497664139336,\n",
       " 1.0000000000000002,\n",
       " 0.9866181007453559,\n",
       " 0.9868777963398565,\n",
       " 0.954939753613975,\n",
       " 0.9514058772869863,\n",
       " 0.9707472924801118,\n",
       " 0.9523368603561121,\n",
       " 0.974160814440621,\n",
       " 0.9778530807952205,\n",
       " 0.9792399999667587,\n",
       " 0.9808549490642199,\n",
       " 0.9788663821897059]"
      ]
     },
     "execution_count": 106,
     "metadata": {},
     "output_type": "execute_result"
    }
   ],
   "source": [
    "temp_input"
   ]
  },
  {
   "cell_type": "code",
   "execution_count": 107,
   "metadata": {},
   "outputs": [
    {
     "name": "stdout",
     "output_type": "stream",
     "text": [
      "[0.7598462]\n",
      "51\n",
      "1 day input [0.78835304 0.78485714 0.8015006  0.80495216 0.79090528 0.78787169\n",
      " 0.78392616 0.78100661 0.78071525 0.78473048 0.77929029 0.80723209\n",
      " 0.81140565 0.82837845 0.84319798 0.85473696 0.88360337 0.87915119\n",
      " 0.87750458 0.88189343 0.90708662 0.95255852 0.95193789 0.94925898\n",
      " 0.95241918 0.9502596  0.94404676 0.94479412 0.94067122 0.94255848\n",
      " 0.93901192 0.93858128 0.93824564 0.94043688 0.94216587 0.98920838\n",
      " 0.98664977 1.         0.9866181  0.9868778  0.95493975 0.95140588\n",
      " 0.97074729 0.95233686 0.97416081 0.97785308 0.97924    0.98085495\n",
      " 0.97886638 0.75984621]\n",
      "1 day output [[0.74568826]]\n",
      "2 day input [0.78485714 0.8015006  0.80495216 0.79090528 0.78787169 0.78392616\n",
      " 0.78100661 0.78071525 0.78473048 0.77929029 0.80723209 0.81140565\n",
      " 0.82837845 0.84319798 0.85473696 0.88360337 0.87915119 0.87750458\n",
      " 0.88189343 0.90708662 0.95255852 0.95193789 0.94925898 0.95241918\n",
      " 0.9502596  0.94404676 0.94479412 0.94067122 0.94255848 0.93901192\n",
      " 0.93858128 0.93824564 0.94043688 0.94216587 0.98920838 0.98664977\n",
      " 1.         0.9866181  0.9868778  0.95493975 0.95140588 0.97074729\n",
      " 0.95233686 0.97416081 0.97785308 0.97924    0.98085495 0.97886638\n",
      " 0.75984621 0.74568826]\n",
      "2 day output [[0.7192522]]\n",
      "3 day input [0.8015006  0.80495216 0.79090528 0.78787169 0.78392616 0.78100661\n",
      " 0.78071525 0.78473048 0.77929029 0.80723209 0.81140565 0.82837845\n",
      " 0.84319798 0.85473696 0.88360337 0.87915119 0.87750458 0.88189343\n",
      " 0.90708662 0.95255852 0.95193789 0.94925898 0.95241918 0.9502596\n",
      " 0.94404676 0.94479412 0.94067122 0.94255848 0.93901192 0.93858128\n",
      " 0.93824564 0.94043688 0.94216587 0.98920838 0.98664977 1.\n",
      " 0.9866181  0.9868778  0.95493975 0.95140588 0.97074729 0.95233686\n",
      " 0.97416081 0.97785308 0.97924    0.98085495 0.97886638 0.75984621\n",
      " 0.74568826 0.71925223]\n",
      "3 day output [[0.68686694]]\n",
      "4 day input [0.80495216 0.79090528 0.78787169 0.78392616 0.78100661 0.78071525\n",
      " 0.78473048 0.77929029 0.80723209 0.81140565 0.82837845 0.84319798\n",
      " 0.85473696 0.88360337 0.87915119 0.87750458 0.88189343 0.90708662\n",
      " 0.95255852 0.95193789 0.94925898 0.95241918 0.9502596  0.94404676\n",
      " 0.94479412 0.94067122 0.94255848 0.93901192 0.93858128 0.93824564\n",
      " 0.94043688 0.94216587 0.98920838 0.98664977 1.         0.9866181\n",
      " 0.9868778  0.95493975 0.95140588 0.97074729 0.95233686 0.97416081\n",
      " 0.97785308 0.97924    0.98085495 0.97886638 0.75984621 0.74568826\n",
      " 0.71925223 0.68686694]\n",
      "4 day output [[0.6531802]]\n",
      "5 day input [0.79090528 0.78787169 0.78392616 0.78100661 0.78071525 0.78473048\n",
      " 0.77929029 0.80723209 0.81140565 0.82837845 0.84319798 0.85473696\n",
      " 0.88360337 0.87915119 0.87750458 0.88189343 0.90708662 0.95255852\n",
      " 0.95193789 0.94925898 0.95241918 0.9502596  0.94404676 0.94479412\n",
      " 0.94067122 0.94255848 0.93901192 0.93858128 0.93824564 0.94043688\n",
      " 0.94216587 0.98920838 0.98664977 1.         0.9866181  0.9868778\n",
      " 0.95493975 0.95140588 0.97074729 0.95233686 0.97416081 0.97785308\n",
      " 0.97924    0.98085495 0.97886638 0.75984621 0.74568826 0.71925223\n",
      " 0.68686694 0.65318018]\n",
      "5 day output [[0.6207937]]\n",
      "6 day input [0.78787169 0.78392616 0.78100661 0.78071525 0.78473048 0.77929029\n",
      " 0.80723209 0.81140565 0.82837845 0.84319798 0.85473696 0.88360337\n",
      " 0.87915119 0.87750458 0.88189343 0.90708662 0.95255852 0.95193789\n",
      " 0.94925898 0.95241918 0.9502596  0.94404676 0.94479412 0.94067122\n",
      " 0.94255848 0.93901192 0.93858128 0.93824564 0.94043688 0.94216587\n",
      " 0.98920838 0.98664977 1.         0.9866181  0.9868778  0.95493975\n",
      " 0.95140588 0.97074729 0.95233686 0.97416081 0.97785308 0.97924\n",
      " 0.98085495 0.97886638 0.75984621 0.74568826 0.71925223 0.68686694\n",
      " 0.65318018 0.6207937 ]\n",
      "6 day output [[0.59089595]]\n",
      "7 day input [0.78392616 0.78100661 0.78071525 0.78473048 0.77929029 0.80723209\n",
      " 0.81140565 0.82837845 0.84319798 0.85473696 0.88360337 0.87915119\n",
      " 0.87750458 0.88189343 0.90708662 0.95255852 0.95193789 0.94925898\n",
      " 0.95241918 0.9502596  0.94404676 0.94479412 0.94067122 0.94255848\n",
      " 0.93901192 0.93858128 0.93824564 0.94043688 0.94216587 0.98920838\n",
      " 0.98664977 1.         0.9866181  0.9868778  0.95493975 0.95140588\n",
      " 0.97074729 0.95233686 0.97416081 0.97785308 0.97924    0.98085495\n",
      " 0.97886638 0.75984621 0.74568826 0.71925223 0.68686694 0.65318018\n",
      " 0.6207937  0.59089595]\n",
      "7 day output [[0.5638928]]\n",
      "8 day input [0.78100661 0.78071525 0.78473048 0.77929029 0.80723209 0.81140565\n",
      " 0.82837845 0.84319798 0.85473696 0.88360337 0.87915119 0.87750458\n",
      " 0.88189343 0.90708662 0.95255852 0.95193789 0.94925898 0.95241918\n",
      " 0.9502596  0.94404676 0.94479412 0.94067122 0.94255848 0.93901192\n",
      " 0.93858128 0.93824564 0.94043688 0.94216587 0.98920838 0.98664977\n",
      " 1.         0.9866181  0.9868778  0.95493975 0.95140588 0.97074729\n",
      " 0.95233686 0.97416081 0.97785308 0.97924    0.98085495 0.97886638\n",
      " 0.75984621 0.74568826 0.71925223 0.68686694 0.65318018 0.6207937\n",
      " 0.59089595 0.56389278]\n",
      "8 day output [[0.5398139]]\n",
      "9 day input [0.78071525 0.78473048 0.77929029 0.80723209 0.81140565 0.82837845\n",
      " 0.84319798 0.85473696 0.88360337 0.87915119 0.87750458 0.88189343\n",
      " 0.90708662 0.95255852 0.95193789 0.94925898 0.95241918 0.9502596\n",
      " 0.94404676 0.94479412 0.94067122 0.94255848 0.93901192 0.93858128\n",
      " 0.93824564 0.94043688 0.94216587 0.98920838 0.98664977 1.\n",
      " 0.9866181  0.9868778  0.95493975 0.95140588 0.97074729 0.95233686\n",
      " 0.97416081 0.97785308 0.97924    0.98085495 0.97886638 0.75984621\n",
      " 0.74568826 0.71925223 0.68686694 0.65318018 0.6207937  0.59089595\n",
      " 0.56389278 0.53981388]\n",
      "9 day output [[0.518524]]\n",
      "[[0.7598462104797363], [0.745688259601593], [0.7192522287368774], [0.6868669390678406], [0.6531801819801331], [0.6207937002182007], [0.59089595079422], [0.5638927817344666], [0.5398138761520386], [0.5185239911079407]]\n"
     ]
    }
   ],
   "source": [
    "# demonstrate prediction for next 10 days\n",
    "from numpy import array\n",
    "\n",
    "lst_output=[]\n",
    "n_steps=50\n",
    "i=0\n",
    "while(i<10):\n",
    "    \n",
    "    if(len(temp_input)>50):\n",
    "        #print(temp_input)\n",
    "        x_input=np.array(temp_input[1:])\n",
    "        print(\"{} day input {}\".format(i,x_input))\n",
    "        x_input=x_input.reshape(1,-1)\n",
    "        x_input = x_input.reshape((1, n_steps, 1))\n",
    "        #print(x_input)\n",
    "        yhat = model.predict(x_input, verbose=0)\n",
    "        print(\"{} day output {}\".format(i,yhat))\n",
    "        temp_input.extend(yhat[0].tolist())\n",
    "        temp_input=temp_input[1:]\n",
    "        #print(temp_input)\n",
    "        lst_output.extend(yhat.tolist())\n",
    "        i=i+1\n",
    "    else:\n",
    "        x_input = x_input.reshape((1, n_steps,1))\n",
    "        yhat = model.predict(x_input, verbose=0)\n",
    "        print(yhat[0])\n",
    "        temp_input.extend(yhat[0].tolist())\n",
    "        print(len(temp_input))\n",
    "        lst_output.extend(yhat.tolist())\n",
    "        i=i+1\n",
    "    \n",
    "\n",
    "print(lst_output)"
   ]
  },
  {
   "cell_type": "code",
   "execution_count": 108,
   "metadata": {},
   "outputs": [],
   "source": [
    "day_new=np.arange(1,51)\n",
    "day_pred=np.arange(51,61)"
   ]
  },
  {
   "cell_type": "code",
   "execution_count": 109,
   "metadata": {},
   "outputs": [
    {
     "data": {
      "text/plain": [
       "4783"
      ]
     },
     "execution_count": 109,
     "metadata": {},
     "output_type": "execute_result"
    }
   ],
   "source": [
    "len(df1)"
   ]
  },
  {
   "cell_type": "code",
   "execution_count": 110,
   "metadata": {},
   "outputs": [
    {
     "data": {
      "text/plain": [
       "[<matplotlib.lines.Line2D at 0x7f83bcfe7390>]"
      ]
     },
     "execution_count": 110,
     "metadata": {},
     "output_type": "execute_result"
    },
    {
     "data": {
      "image/png": "[encoded data removed]",
      "text/plain": [
       "<Figure size 432x288 with 1 Axes>"
      ]
     },
     "metadata": {
      "needs_background": "light"
     },
     "output_type": "display_data"
    }
   ],
   "source": [
    "plt.plot(day_new,scaler.inverse_transform(df1[4733:]))\n",
    "plt.plot(day_pred,scaler.inverse_transform(lst_output))"
   ]
  },
  {
   "cell_type": "code",
   "execution_count": 111,
   "metadata": {},
   "outputs": [
    {
     "data": {
      "text/plain": [
       "[<matplotlib.lines.Line2D at 0x7f83bcf89eb8>]"
      ]
     },
     "execution_count": 111,
     "metadata": {},
     "output_type": "execute_result"
    },
    {
     "data": {
      "image/png": "[encoded data removed]",
      "text/plain": [
       "<Figure size 432x288 with 1 Axes>"
      ]
     },
     "metadata": {
      "needs_background": "light"
     },
     "output_type": "display_data"
    }
   ],
   "source": [
    "df3=df1.tolist()\n",
    "df3.extend(lst_output)\n",
    "plt.plot(df3[4000:])"
   ]
  },
  {
   "cell_type": "code",
   "execution_count": 112,
   "metadata": {},
   "outputs": [],
   "source": [
    "df3=scaler.inverse_transform(df3).tolist()"
   ]
  },
  {
   "cell_type": "code",
   "execution_count": 113,
   "metadata": {},
   "outputs": [
    {
     "data": {
      "text/plain": [
       "[<matplotlib.lines.Line2D at 0x7f83bc242278>]"
      ]
     },
     "execution_count": 113,
     "metadata": {},
     "output_type": "execute_result"
    },
    {
     "data": {
      "image/png": "[encoded data removed]",
      "text/plain": [
       "<Figure size 432x288 with 1 Axes>"
      ]
     },
     "metadata": {
      "needs_background": "light"
     },
     "output_type": "display_data"
    }
   ],
   "source": [
    "plt.plot(df3)"
   ]
  },
  {
   "cell_type": "code",
   "execution_count": null,
   "metadata": {},
   "outputs": [],
   "source": []
  }
 ],
 "metadata": {
  "kernelspec": {
   "display_name": "tensorflow2",
   "language": "python",
   "name": "tensorflow2"
  },
  "language_info": {
   "codemirror_mode": {
    "name": "ipython",
    "version": 3
   },
   "file_extension": ".py",
   "mimetype": "text/x-python",
   "name": "python",
   "nbconvert_exporter": "python",
   "pygments_lexer": "ipython3",
   "version": "3.6.8"
  },
  "toc": {
   "base_numbering": 1,
   "nav_menu": {},
   "number_sections": true,
   "sideBar": true,
   "skip_h1_title": false,
   "title_cell": "Table of Contents",
   "title_sidebar": "Contents",
   "toc_cell": false,
   "toc_position": {},
   "toc_section_display": true,
   "toc_window_display": false
  }
 },
 "nbformat": 4,
 "nbformat_minor": 2
}
